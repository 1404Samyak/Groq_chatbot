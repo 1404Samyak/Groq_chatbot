{
 "cells": [
  {
   "cell_type": "code",
   "execution_count": null,
   "metadata": {},
   "outputs": [],
   "source": [
    "from langchain_core.output_parsers import StrOutputParser\n",
    "from langchain_core.prompts import ChatPromptTemplate"
   ]
  },
  {
   "cell_type": "code",
   "execution_count": 2,
   "metadata": {},
   "outputs": [
    {
     "data": {
      "text/plain": [
       "True"
      ]
     },
     "execution_count": 2,
     "metadata": {},
     "output_type": "execute_result"
    }
   ],
   "source": [
    "import os\n",
    "from dotenv import load_dotenv\n",
    "load_dotenv()"
   ]
  },
  {
   "cell_type": "code",
   "execution_count": 3,
   "metadata": {},
   "outputs": [
    {
     "name": "stdout",
     "output_type": "stream",
     "text": [
      "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 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\n"
     ]
    }
   ],
   "source": [
    "os.environ[\"LANGCHAIN_API_KEY\"]=os.getenv(\"LANGCHAIN_API_KEY\")\n",
    "os.environ[\"GROQ_API_KEY\"]=os.getenv(\"GROQ_API_KEY\")\n",
    "os.environ[\"LANGCHAIN_TRACING_V2\"]=\"true\"\n",
    "os.environ[\"LANGCHAIN_PROJECT\"]=\"QNA-Chatbot\"\n",
    "langchain_api_key=os.getenv(\"LANGCHAIN_API_KEY\")\n",
    "groq_api_key=os.getenv(\"GROQ_API_KEY\")\n",
    "#print(langchain_api_key,groq_api_key)\n"
   ]
  },
  {
   "cell_type": "code",
   "execution_count": 4,
   "metadata": {},
   "outputs": [
    {
     "data": {
      "text/plain": [
       "ChatGroq(client=<groq.resources.chat.completions.Completions object at 0x000002122E115E80>, async_client=<groq.resources.chat.completions.AsyncCompletions object at 0x000002122E116210>, model_name='Gemma2-9b-It', model_kwargs={}, groq_api_key=SecretStr('**********'))"
      ]
     },
     "execution_count": 4,
     "metadata": {},
     "output_type": "execute_result"
    }
   ],
   "source": [
    "from langchain_groq import ChatGroq\n",
    "model=ChatGroq(model=\"Gemma2-9b-It\")\n",
    "model"
   ]
  },
  {
   "cell_type": "code",
   "execution_count": 5,
   "metadata": {},
   "outputs": [
    {
     "data": {
      "text/plain": [
       "[SystemMessage(content='You are a wonderful assistant and pls respond to the queries of the user', additional_kwargs={}, response_metadata={}),\n",
       " HumanMessage(content='QuestionWhat is generative ai', additional_kwargs={}, response_metadata={})]"
      ]
     },
     "execution_count": 5,
     "metadata": {},
     "output_type": "execute_result"
    }
   ],
   "source": [
    "prompt_template=ChatPromptTemplate.from_messages(\n",
    "    [(\"system\",\"You are a wonderful assistant and pls respond to the queries of the user\"),(\"user\",\"Question{question}\")]\n",
    ")\n",
    "result=prompt_template.invoke({\"question\":\"What is generative ai\"})\n",
    "result.to_messages()\n"
   ]
  },
  {
   "cell_type": "code",
   "execution_count": 6,
   "metadata": {},
   "outputs": [
    {
     "data": {
      "text/plain": [
       "'Deep learning is a subfield of machine learning that uses artificial neural networks with multiple layers to analyze and learn from data. \\n\\nThink of it like this:\\n\\n* **Machine learning** is the broad field of teaching computers to learn from data without explicit programming. \\n* **Deep learning** is a more specialized approach within machine learning that uses artificial neural networks with many layers (hence \"deep\").\\n\\n**Here\\'s a breakdown:**\\n\\n* **Artificial Neural Networks (ANNs):** Inspired by the human brain, ANNs are networks of interconnected nodes (neurons) that process and transmit information.\\n* **Layers:** Deep learning networks have multiple layers of neurons. Each layer learns to extract increasingly complex features from the data.\\n\\n**How it works:**\\n\\n1. **Input:** Data is fed into the first layer of the network.\\n2. **Processing:** Each neuron in a layer receives input from the previous layer, performs a calculation, and passes the result to the next layer.\\n3. **Feature Extraction:** As data moves through the layers, features are progressively extracted. Early layers might detect simple patterns (edges, lines), while later layers might recognize more complex objects or concepts.\\n4. **Output:** The final layer produces the output, which could be a classification (e.g., cat or dog), a prediction (e.g., stock price), or something else.\\n\\n**Training:**\\n\\nDeep learning models are trained using vast amounts of data. The network\\'s weights (the connections between neurons) are adjusted through a process called backpropagation. This process minimizes the difference between the network\\'s output and the desired output, effectively teaching the network to make accurate predictions.\\n\\n**Applications:**\\n\\nDeep learning has revolutionized many fields, including:\\n\\n* **Computer Vision:** Image recognition, object detection, facial recognition\\n* **Natural Language Processing:** Machine translation, text summarization, chatbots\\n* **Speech Recognition:** Voice assistants, dictation software\\n* **Healthcare:** Disease diagnosis, drug discovery\\n* **Finance:** Fraud detection, risk assessment\\n\\n\\nLet me know if you have any more questions about deep learning!\\n'"
      ]
     },
     "execution_count": 6,
     "metadata": {},
     "output_type": "execute_result"
    }
   ],
   "source": [
    "parser=StrOutputParser()\n",
    "chain=prompt_template|model|parser\n",
    "response=chain.invoke({\"question\":\"What is deep learning\"})\n",
    "response"
   ]
  },
  {
   "cell_type": "code",
   "execution_count": null,
   "metadata": {},
   "outputs": [],
   "source": []
  }
 ],
 "metadata": {
  "kernelspec": {
   "display_name": "mygen",
   "language": "python",
   "name": "python3"
  },
  "language_info": {
   "codemirror_mode": {
    "name": "ipython",
    "version": 3
   },
   "file_extension": ".py",
   "mimetype": "text/x-python",
   "name": "python",
   "nbconvert_exporter": "python",
   "pygments_lexer": "ipython3",
   "version": "3.12.5"
  }
 },
 "nbformat": 4,
 "nbformat_minor": 2
}
