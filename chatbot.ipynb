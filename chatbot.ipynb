{
 "cells": [
  {
   "cell_type": "code",
   "execution_count": 7,
   "metadata": {},
   "outputs": [],
   "source": [
    "from langchain_core.output_parsers import StrOutputParser\n",
    "from langchain_core.prompts import ChatPromptTemplate"
   ]
  },
  {
   "cell_type": "code",
   "execution_count": 8,
   "metadata": {},
   "outputs": [
    {
     "data": {
      "text/plain": [
       "True"
      ]
     },
     "execution_count": 8,
     "metadata": {},
     "output_type": "execute_result"
    }
   ],
   "source": [
    "import os\n",
    "from dotenv import load_dotenv\n",
    "load_dotenv()"
   ]
  },
  {
   "cell_type": "code",
   "execution_count": 9,
   "metadata": {},
   "outputs": [],
   "source": [
    "os.environ[\"LANGCHAIN_API_KEY\"]=os.getenv(\"LANGCHAIN_API_KEY\")\n",
    "os.environ[\"GROQ_API_KEY\"]=os.getenv(\"GROQ_API_KEY\")\n",
    "os.environ[\"LANGCHAIN_TRACING_V2\"]=\"true\"\n",
    "os.environ[\"LANGCHAIN_PROJECT\"]=\"QNA-Chatbot\"\n",
    "langchain_api_key=os.getenv(\"LANGCHAIN_API_KEY\")\n",
    "groq_api_key=os.getenv(\"GROQ_API_KEY\")\n"
   ]
  },
  {
   "cell_type": "code",
   "execution_count": 10,
   "metadata": {},
   "outputs": [
    {
     "data": {
      "text/plain": [
       "ChatGroq(client=<groq.resources.chat.completions.Completions object at 0x000002124CC6E870>, async_client=<groq.resources.chat.completions.AsyncCompletions object at 0x000002124E0611C0>, model_name='Gemma2-9b-It', model_kwargs={}, groq_api_key=SecretStr('**********'))"
      ]
     },
     "execution_count": 10,
     "metadata": {},
     "output_type": "execute_result"
    }
   ],
   "source": [
    "from langchain_groq import ChatGroq\n",
    "model=ChatGroq(model=\"Gemma2-9b-It\")\n",
    "model"
   ]
  },
  {
   "cell_type": "code",
   "execution_count": 11,
   "metadata": {},
   "outputs": [
    {
     "data": {
      "text/plain": [
       "[SystemMessage(content='You are a wonderful assistant and pls respond to the queries of the user', additional_kwargs={}, response_metadata={}),\n",
       " HumanMessage(content='QuestionWhat is generative ai', additional_kwargs={}, response_metadata={})]"
      ]
     },
     "execution_count": 11,
     "metadata": {},
     "output_type": "execute_result"
    }
   ],
   "source": [
    "prompt_template=ChatPromptTemplate.from_messages(\n",
    "    [(\"system\",\"You are a wonderful assistant and pls respond to the queries of the user\"),(\"user\",\"Question{question}\")]\n",
    ")\n",
    "result=prompt_template.invoke({\"question\":\"What is generative ai\"})\n",
    "result.to_messages()\n"
   ]
  },
  {
   "cell_type": "code",
   "execution_count": 12,
   "metadata": {},
   "outputs": [
    {
     "data": {
      "text/plain": [
       "\"Deep learning is a fascinating field within artificial intelligence (AI)!  \\n\\nHere's a breakdown:\\n\\n**Imagine the brain:** Deep learning is inspired by the structure and function of the human brain, specifically the way neurons connect and process information.\\n\\n**Artificial neurons:**  Deep learning uses artificial neurons organized into layers. Each layer learns to detect increasingly complex patterns in the data.\\n\\n**Layers:** Think of these layers like a hierarchy. The first layers might identify basic features (like edges in an image), while deeper layers combine those features to recognize more complex objects (like a cat or a car).\\n\\n**Learning from data:** Deep learning models learn by being trained on massive amounts of data.  They adjust the connections between their artificial neurons to improve their ability to recognize patterns and make predictions.\\n\\n**Types of deep learning:**\\n\\n* **Convolutional Neural Networks (CNNs):** Excellent for image recognition and processing.\\n* **Recurrent Neural Networks (RNNs):**  Specialize in understanding sequential data like text or speech.\\n\\n**Applications:** Deep learning is used in a wide range of applications, including:\\n\\n* **Image recognition:**  Facial recognition, medical image analysis\\n* **Natural language processing:**  Machine translation, chatbots, text summarization\\n* **Speech recognition:**  Voice assistants, dictation software\\n* **Self-driving cars:**  Object detection, lane keeping\\n\\n**Key advantages:**\\n\\n* **High accuracy:** Deep learning models can achieve state-of-the-art accuracy on many tasks.\\n* **Automation:** They can learn complex patterns automatically without explicit programming.\\n\\n**Challenges:**\\n\\n* **Data dependency:** Deep learning models require massive amounts of data to train effectively.\\n* **Computational resources:** Training deep learning models can be computationally expensive.\\n* **Explainability:** It can be difficult to understand how deep learning models make their decisions.\\n\\n\\nLet me know if you have any more questions about deep learning! I'm happy to provide more details or examples.\\n\""
      ]
     },
     "execution_count": 12,
     "metadata": {},
     "output_type": "execute_result"
    }
   ],
   "source": [
    "parser=StrOutputParser()\n",
    "chain=prompt_template|model|parser\n",
    "response=chain.invoke({\"question\":\"What is deep learning\"})\n",
    "response"
   ]
  },
  {
   "cell_type": "code",
   "execution_count": null,
   "metadata": {},
   "outputs": [],
   "source": []
  }
 ],
 "metadata": {
  "kernelspec": {
   "display_name": "mygen",
   "language": "python",
   "name": "python3"
  },
  "language_info": {
   "codemirror_mode": {
    "name": "ipython",
    "version": 3
   },
   "file_extension": ".py",
   "mimetype": "text/x-python",
   "name": "python",
   "nbconvert_exporter": "python",
   "pygments_lexer": "ipython3",
   "version": "3.12.5"
  }
 },
 "nbformat": 4,
 "nbformat_minor": 2
}
